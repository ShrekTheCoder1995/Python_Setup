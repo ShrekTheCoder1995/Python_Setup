{
 "cells": [
  {
   "cell_type": "code",
   "execution_count": 1,
   "metadata": {},
   "outputs": [
    {
     "name": "stdout",
     "output_type": "stream",
     "text": [
      "Package           VersionNote: you may need to restart the kernel to use updated packages.\n",
      "\n",
      "----------------- ------------\n",
      "asttokens         2.4.0\n",
      "backcall          0.2.0\n",
      "colorama          0.4.6\n",
      "comm              0.1.4\n",
      "debugpy           1.8.0\n",
      "decorator         5.1.1\n",
      "executing         1.2.0\n",
      "ipykernel         6.25.2\n",
      "ipython           8.15.0\n",
      "jedi              0.19.0\n",
      "jupyter_client    8.3.1\n",
      "jupyter_core      5.3.1\n",
      "matplotlib-inline 0.1.6\n",
      "nest-asyncio      1.5.8\n",
      "numpy             1.26.0\n",
      "packaging         23.1\n",
      "pandas            2.1.0\n",
      "parso             0.8.3\n",
      "pickleshare       0.7.5\n",
      "pip               23.1.2\n",
      "platformdirs      3.10.0\n",
      "prompt-toolkit    3.0.39\n",
      "psutil            5.9.5\n",
      "pure-eval         0.2.2\n",
      "Pygments          2.16.1\n",
      "python-dateutil   2.8.2\n",
      "pytz              2023.3.post1\n",
      "pywin32           306\n",
      "pyzmq             25.1.1\n",
      "setuptools        65.5.0\n",
      "six               1.16.0\n",
      "stack-data        0.6.2\n",
      "tornado           6.3.3\n",
      "traitlets         5.10.0\n",
      "tzdata            2023.3\n",
      "wcwidth           0.2.6\n"
     ]
    },
    {
     "name": "stderr",
     "output_type": "stream",
     "text": [
      "\n",
      "[notice] A new release of pip is available: 23.1.2 -> 23.2.1\n",
      "[notice] To update, run: python.exe -m pip install --upgrade pip\n"
     ]
    }
   ],
   "source": [
    "pip list"
   ]
  },
  {
   "cell_type": "code",
   "execution_count": 3,
   "metadata": {},
   "outputs": [
    {
     "data": {
      "text/plain": [
       "0    A\n",
       "1    B\n",
       "2    C\n",
       "dtype: category\n",
       "Categories (3, object): ['A', 'B', 'C']"
      ]
     },
     "execution_count": 3,
     "metadata": {},
     "output_type": "execute_result"
    }
   ],
   "source": [
    "import pandas as pd\n",
    "ser = pd.Series([\"a\", \"b\", \"c\"], dtype=\"category\")\n",
    "ser.map(str.upper, na_action=\"ignore\")"
   ]
  }
 ],
 "metadata": {
  "kernelspec": {
   "display_name": "venv",
   "language": "python",
   "name": "python3"
  },
  "language_info": {
   "codemirror_mode": {
    "name": "ipython",
    "version": 3
   },
   "file_extension": ".py",
   "mimetype": "text/x-python",
   "name": "python",
   "nbconvert_exporter": "python",
   "pygments_lexer": "ipython3",
   "version": "3.11.4"
  },
  "orig_nbformat": 4
 },
 "nbformat": 4,
 "nbformat_minor": 2
}
