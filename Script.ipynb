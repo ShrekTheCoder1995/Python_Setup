{
 "cells": [
  {
   "cell_type": "code",
   "execution_count": 3,
   "metadata": {},
   "outputs": [
    {
     "name": "stdout",
     "output_type": "stream",
     "text": [
<<<<<<< HEAD
=======
      "Requirement already satisfied: asttokens==2.4.0 in c:\\users\\jelle\\onedrive\\bureaublad\\python_setup\\venv\\lib\\site-packages (from -r requirements.txt (line 1)) (2.4.0)\n",
      "Requirement already satisfied: backcall==0.2.0 in c:\\users\\jelle\\onedrive\\bureaublad\\python_setup\\venv\\lib\\site-packages (from -r requirements.txt (line 2)) (0.2.0)\n",
      "Requirement already satisfied: colorama==0.4.6 in c:\\users\\jelle\\onedrive\\bureaublad\\python_setup\\venv\\lib\\site-packages (from -r requirements.txt (line 3)) (0.4.6)\n",
      "Requirement already satisfied: comm==0.1.4 in c:\\users\\jelle\\onedrive\\bureaublad\\python_setup\\venv\\lib\\site-packages (from -r requirements.txt (line 4)) (0.1.4)\n",
      "Requirement already satisfied: debugpy==1.8.0 in c:\\users\\jelle\\onedrive\\bureaublad\\python_setup\\venv\\lib\\site-packages (from -r requirements.txt (line 5)) (1.8.0)\n",
      "Requirement already satisfied: decorator==5.1.1 in c:\\users\\jelle\\onedrive\\bureaublad\\python_setup\\venv\\lib\\site-packages (from -r requirements.txt (line 6)) (5.1.1)\n",
      "Requirement already satisfied: executing==1.2.0 in c:\\users\\jelle\\onedrive\\bureaublad\\python_setup\\venv\\lib\\site-packages (from -r requirements.txt (line 7)) (1.2.0)\n",
      "Requirement already satisfied: ipykernel==6.25.2 in c:\\users\\jelle\\onedrive\\bureaublad\\python_setup\\venv\\lib\\site-packages (from -r requirements.txt (line 8)) (6.25.2)\n",
      "Requirement already satisfied: ipython==8.15.0 in c:\\users\\jelle\\onedrive\\bureaublad\\python_setup\\venv\\lib\\site-packages (from -r requirements.txt (line 9)) (8.15.0)\n",
      "Requirement already satisfied: jedi==0.19.0 in c:\\users\\jelle\\onedrive\\bureaublad\\python_setup\\venv\\lib\\site-packages (from -r requirements.txt (line 10)) (0.19.0)\n",
      "Requirement already satisfied: jupyter_client==8.3.1 in c:\\users\\jelle\\onedrive\\bureaublad\\python_setup\\venv\\lib\\site-packages (from -r requirements.txt (line 11)) (8.3.1)\n",
      "Requirement already satisfied: jupyter_core==5.3.1 in c:\\users\\jelle\\onedrive\\bureaublad\\python_setup\\venv\\lib\\site-packages (from -r requirements.txt (line 12)) (5.3.1)\n",
      "Requirement already satisfied: matplotlib-inline==0.1.6 in c:\\users\\jelle\\onedrive\\bureaublad\\python_setup\\venv\\lib\\site-packages (from -r requirements.txt (line 13)) (0.1.6)\n",
      "Requirement already satisfied: nest-asyncio==1.5.8 in c:\\users\\jelle\\onedrive\\bureaublad\\python_setup\\venv\\lib\\site-packages (from -r requirements.txt (line 14)) (1.5.8)\n",
      "Requirement already satisfied: numpy==1.26.0 in c:\\users\\jelle\\onedrive\\bureaublad\\python_setup\\venv\\lib\\site-packages (from -r requirements.txt (line 15)) (1.26.0)\n",
      "Requirement already satisfied: packaging==23.1 in c:\\users\\jelle\\onedrive\\bureaublad\\python_setup\\venv\\lib\\site-packages (from -r requirements.txt (line 16)) (23.1)\n",
      "Requirement already satisfied: pandas==2.1.0 in c:\\users\\jelle\\onedrive\\bureaublad\\python_setup\\venv\\lib\\site-packages (from -r requirements.txt (line 17)) (2.1.0)\n",
      "Requirement already satisfied: parso==0.8.3 in c:\\users\\jelle\\onedrive\\bureaublad\\python_setup\\venv\\lib\\site-packages (from -r requirements.txt (line 18)) (0.8.3)\n",
      "Requirement already satisfied: pickleshare==0.7.5 in c:\\users\\jelle\\onedrive\\bureaublad\\python_setup\\venv\\lib\\site-packages (from -r requirements.txt (line 19)) (0.7.5)\n",
      "Requirement already satisfied: platformdirs==3.10.0 in c:\\users\\jelle\\onedrive\\bureaublad\\python_setup\\venv\\lib\\site-packages (from -r requirements.txt (line 20)) (3.10.0)\n",
      "Requirement already satisfied: prompt-toolkit==3.0.39 in c:\\users\\jelle\\onedrive\\bureaublad\\python_setup\\venv\\lib\\site-packages (from -r requirements.txt (line 21)) (3.0.39)\n",
      "Requirement already satisfied: psutil==5.9.5 in c:\\users\\jelle\\onedrive\\bureaublad\\python_setup\\venv\\lib\\site-packages (from -r requirements.txt (line 22)) (5.9.5)\n",
      "Requirement already satisfied: pure-eval==0.2.2 in c:\\users\\jelle\\onedrive\\bureaublad\\python_setup\\venv\\lib\\site-packages (from -r requirements.txt (line 23)) (0.2.2)\n",
      "Requirement already satisfied: Pygments==2.16.1 in c:\\users\\jelle\\onedrive\\bureaublad\\python_setup\\venv\\lib\\site-packages (from -r requirements.txt (line 24)) (2.16.1)\n",
      "Requirement already satisfied: python-dateutil==2.8.2 in c:\\users\\jelle\\onedrive\\bureaublad\\python_setup\\venv\\lib\\site-packages (from -r requirements.txt (line 25)) (2.8.2)\n",
      "Requirement already satisfied: pytz==2023.3.post1 in c:\\users\\jelle\\onedrive\\bureaublad\\python_setup\\venv\\lib\\site-packages (from -r requirements.txt (line 26)) (2023.3.post1)\n",
      "Requirement already satisfied: pywin32==306 in c:\\users\\jelle\\onedrive\\bureaublad\\python_setup\\venv\\lib\\site-packages (from -r requirements.txt (line 27)) (306)\n",
      "Requirement already satisfied: pyzmq==25.1.1 in c:\\users\\jelle\\onedrive\\bureaublad\\python_setup\\venv\\lib\\site-packages (from -r requirements.txt (line 28)) (25.1.1)\n",
      "Requirement already satisfied: six==1.16.0 in c:\\users\\jelle\\onedrive\\bureaublad\\python_setup\\venv\\lib\\site-packages (from -r requirements.txt (line 29)) (1.16.0)\n",
      "Requirement already satisfied: stack-data==0.6.2 in c:\\users\\jelle\\onedrive\\bureaublad\\python_setup\\venv\\lib\\site-packages (from -r requirements.txt (line 30)) (0.6.2)\n",
      "Requirement already satisfied: tornado==6.3.3 in c:\\users\\jelle\\onedrive\\bureaublad\\python_setup\\venv\\lib\\site-packages (from -r requirements.txt (line 31)) (6.3.3)\n",
      "Requirement already satisfied: traitlets==5.10.0 in c:\\users\\jelle\\onedrive\\bureaublad\\python_setup\\venv\\lib\\site-packages (from -r requirements.txt (line 32)) (5.10.0)\n",
      "Requirement already satisfied: tzdata==2023.3 in c:\\users\\jelle\\onedrive\\bureaublad\\python_setup\\venv\\lib\\site-packages (from -r requirements.txt (line 33)) (2023.3)\n",
      "Requirement already satisfied: wcwidth==0.2.6 in c:\\users\\jelle\\onedrive\\bureaublad\\python_setup\\venv\\lib\\site-packages (from -r requirements.txt (line 34)) (0.2.6)\n",
      "Note: you may need to restart the kernel to use updated packages.\n"
     ]
    },
    {
     "name": "stderr",
     "output_type": "stream",
     "text": [
      "\n",
      "[notice] A new release of pip is available: 23.1.2 -> 23.2.1\n",
      "[notice] To update, run: python.exe -m pip install --upgrade pip\n"
     ]
    }
   ],
   "source": [
    "#pip install -r requirements.txt"
   ]
  },
  {
   "cell_type": "code",
   "execution_count": 4,
   "metadata": {},
   "outputs": [
    {
     "name": "stdout",
     "output_type": "stream",
     "text": [
>>>>>>> 3639c34cd0ee71c1774304304059be0992a82ba1
      "Package           Version\n",
      "----------------- ------------\n",
      "asttokens         2.4.0\n",
      "backcall          0.2.0\n",
      "colorama          0.4.6\n",
      "comm              0.1.4\n",
      "debugpy           1.8.0\n",
      "decorator         5.1.1\n",
      "exceptiongroup    1.1.3\n",
      "executing         1.2.0\n",
      "ipykernel         6.25.2\n",
      "ipython           8.15.0\n",
      "jedi              0.19.0\n",
      "jupyter_client    8.3.1\n",
      "jupyter_core      5.3.1\n",
      "matplotlib-inline 0.1.6\n",
      "nest-asyncio      1.5.8\n",
      "numpy             1.26.0\n",
      "packaging         23.1\n",
      "pandas            2.0.0\n",
      "parso             0.8.3\n",
      "pickleshare       0.7.5\n",
      "platformdirs      3.10.0\n",
      "prompt-toolkit    3.0.39\n",
      "psutil            5.9.5\n",
      "pure-eval         0.2.2\n",
      "Pygments          2.16.1\n",
      "python-dateutil   2.8.2\n",
      "pytz              2023.3.post1\n",
      "pywin32           306\n",
      "pyzmq             25.1.1\n",
      "six               1.16.0\n",
      "stack-data        0.6.2\n",
      "tornado           6.3.3\n",
      "traitlets         5.10.0\n",
      "tzdata            2023.3\n",
      "wcwidth           0.2.6\n",
      "Note: you may need to restart the kernel to use updated packages.\n"
     ]
    },
    {
     "name": "stderr",
     "output_type": "stream",
     "text": [
      "\n",
      "[notice] A new release of pip is available: 23.0.1 -> 23.2.1\n",
      "[notice] To update, run: C:\\Users\\jelle\\AppData\\Local\\Microsoft\\WindowsApps\\PythonSoftwareFoundation.Python.3.10_qbz5n2kfra8p0\\python.exe -m pip install --upgrade pip\n"
     ]
    }
   ],
   "source": [
    "pip list"
   ]
  },
  {
   "cell_type": "code",
<<<<<<< HEAD
   "execution_count": 2,
   "metadata": {},
   "outputs": [
    {
     "ename": "NotImplementedError",
     "evalue": "",
     "output_type": "error",
     "traceback": [
      "\u001b[1;31m---------------------------------------------------------------------------\u001b[0m",
      "\u001b[1;31mNotImplementedError\u001b[0m                       Traceback (most recent call last)",
      "\u001b[1;32mc:\\Users\\jelle\\Desktop\\Python_Setup\\Script.ipynb Cell 2\u001b[0m line \u001b[0;36m3\n\u001b[0;32m      <a href='vscode-notebook-cell:/c%3A/Users/jelle/Desktop/Python_Setup/Script.ipynb#W4sZmlsZQ%3D%3D?line=0'>1</a>\u001b[0m \u001b[39mimport\u001b[39;00m \u001b[39mpandas\u001b[39;00m \u001b[39mas\u001b[39;00m \u001b[39mpd\u001b[39;00m\n\u001b[0;32m      <a href='vscode-notebook-cell:/c%3A/Users/jelle/Desktop/Python_Setup/Script.ipynb#W4sZmlsZQ%3D%3D?line=1'>2</a>\u001b[0m ser \u001b[39m=\u001b[39m pd\u001b[39m.\u001b[39mSeries([\u001b[39m\"\u001b[39m\u001b[39ma\u001b[39m\u001b[39m\"\u001b[39m, \u001b[39m\"\u001b[39m\u001b[39mb\u001b[39m\u001b[39m\"\u001b[39m, \u001b[39m\"\u001b[39m\u001b[39mc\u001b[39m\u001b[39m\"\u001b[39m], dtype\u001b[39m=\u001b[39m\u001b[39m\"\u001b[39m\u001b[39mcategory\u001b[39m\u001b[39m\"\u001b[39m)\n\u001b[1;32m----> <a href='vscode-notebook-cell:/c%3A/Users/jelle/Desktop/Python_Setup/Script.ipynb#W4sZmlsZQ%3D%3D?line=2'>3</a>\u001b[0m ser\u001b[39m.\u001b[39;49mmap(\u001b[39mstr\u001b[39;49m\u001b[39m.\u001b[39;49mupper, na_action\u001b[39m=\u001b[39;49m\u001b[39m\"\u001b[39;49m\u001b[39mignore\u001b[39;49m\u001b[39m\"\u001b[39;49m)\n",
      "File \u001b[1;32m~\\AppData\\Local\\Packages\\PythonSoftwareFoundation.Python.3.10_qbz5n2kfra8p0\\LocalCache\\local-packages\\Python310\\site-packages\\pandas\\core\\series.py:4398\u001b[0m, in \u001b[0;36mSeries.map\u001b[1;34m(self, arg, na_action)\u001b[0m\n\u001b[0;32m   4319\u001b[0m \u001b[39mdef\u001b[39;00m \u001b[39mmap\u001b[39m(\n\u001b[0;32m   4320\u001b[0m     \u001b[39mself\u001b[39m,\n\u001b[0;32m   4321\u001b[0m     arg: Callable \u001b[39m|\u001b[39m Mapping \u001b[39m|\u001b[39m Series,\n\u001b[0;32m   4322\u001b[0m     na_action: Literal[\u001b[39m\"\u001b[39m\u001b[39mignore\u001b[39m\u001b[39m\"\u001b[39m] \u001b[39m|\u001b[39m \u001b[39mNone\u001b[39;00m \u001b[39m=\u001b[39m \u001b[39mNone\u001b[39;00m,\n\u001b[0;32m   4323\u001b[0m ) \u001b[39m-\u001b[39m\u001b[39m>\u001b[39m Series:\n\u001b[0;32m   4324\u001b[0m \u001b[39m    \u001b[39m\u001b[39m\"\"\"\u001b[39;00m\n\u001b[0;32m   4325\u001b[0m \u001b[39m    Map values of Series according to an input mapping or function.\u001b[39;00m\n\u001b[0;32m   4326\u001b[0m \n\u001b[1;32m   (...)\u001b[0m\n\u001b[0;32m   4396\u001b[0m \u001b[39m    dtype: object\u001b[39;00m\n\u001b[0;32m   4397\u001b[0m \u001b[39m    \"\"\"\u001b[39;00m\n\u001b[1;32m-> 4398\u001b[0m     new_values \u001b[39m=\u001b[39m \u001b[39mself\u001b[39;49m\u001b[39m.\u001b[39;49m_map_values(arg, na_action\u001b[39m=\u001b[39;49mna_action)\n\u001b[0;32m   4399\u001b[0m     \u001b[39mreturn\u001b[39;00m \u001b[39mself\u001b[39m\u001b[39m.\u001b[39m_constructor(new_values, index\u001b[39m=\u001b[39m\u001b[39mself\u001b[39m\u001b[39m.\u001b[39mindex, copy\u001b[39m=\u001b[39m\u001b[39mFalse\u001b[39;00m)\u001b[39m.\u001b[39m__finalize__(\n\u001b[0;32m   4400\u001b[0m         \u001b[39mself\u001b[39m, method\u001b[39m=\u001b[39m\u001b[39m\"\u001b[39m\u001b[39mmap\u001b[39m\u001b[39m\"\u001b[39m\n\u001b[0;32m   4401\u001b[0m     )\n",
      "File \u001b[1;32m~\\AppData\\Local\\Packages\\PythonSoftwareFoundation.Python.3.10_qbz5n2kfra8p0\\LocalCache\\local-packages\\Python310\\site-packages\\pandas\\core\\base.py:906\u001b[0m, in \u001b[0;36mIndexOpsMixin._map_values\u001b[1;34m(self, mapper, na_action)\u001b[0m\n\u001b[0;32m    904\u001b[0m     values \u001b[39m=\u001b[39m \u001b[39mself\u001b[39m\u001b[39m.\u001b[39m_values\n\u001b[0;32m    905\u001b[0m     \u001b[39mif\u001b[39;00m na_action \u001b[39mis\u001b[39;00m \u001b[39mnot\u001b[39;00m \u001b[39mNone\u001b[39;00m:\n\u001b[1;32m--> 906\u001b[0m         \u001b[39mraise\u001b[39;00m \u001b[39mNotImplementedError\u001b[39;00m\n\u001b[0;32m    907\u001b[0m     map_f \u001b[39m=\u001b[39m \u001b[39mlambda\u001b[39;00m values, f: values\u001b[39m.\u001b[39mmap(f)\n\u001b[0;32m    908\u001b[0m \u001b[39melse\u001b[39;00m:\n",
      "\u001b[1;31mNotImplementedError\u001b[0m: "
     ]
=======
   "execution_count": 5,
   "metadata": {},
   "outputs": [
    {
     "data": {
      "text/plain": [
       "0    A\n",
       "1    B\n",
       "2    C\n",
       "dtype: category\n",
       "Categories (3, object): ['A', 'B', 'C']"
      ]
     },
     "execution_count": 5,
     "metadata": {},
     "output_type": "execute_result"
>>>>>>> 3639c34cd0ee71c1774304304059be0992a82ba1
    }
   ],
   "source": [
    "import pandas as pd\n",
    "ser = pd.Series([\"a\", \"b\", \"c\"], dtype=\"category\")\n",
    "ser.map(str.upper, na_action=\"ignore\")"
   ]
  }
 ],
 "metadata": {
  "kernelspec": {
   "display_name": "base",
   "language": "python",
   "name": "python3"
  },
  "language_info": {
   "codemirror_mode": {
    "name": "ipython",
    "version": 3
   },
   "file_extension": ".py",
   "mimetype": "text/x-python",
   "name": "python",
   "nbconvert_exporter": "python",
   "pygments_lexer": "ipython3",
   "version": "3.10.11"
  },
  "orig_nbformat": 4
 },
 "nbformat": 4,
 "nbformat_minor": 2
}
